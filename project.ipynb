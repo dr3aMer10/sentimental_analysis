{
  "nbformat": 4,
  "nbformat_minor": 0,
  "metadata": {
    "colab": {
      "name": "Untitled0.ipynb",
      "version": "0.3.2",
      "provenance": []
    },
    "kernelspec": {
      "name": "python3",
      "display_name": "Python 3"
    }
  },
  "cells": [
    {
      "cell_type": "code",
      "metadata": {
        "id": "HMod6zJ-Wu7j",
        "colab_type": "code",
        "colab": {}
      },
      "source": [
        "import keras\n",
        "import tensorflow as tf\n",
        "from keras.models import Sequential, load_model\n",
        "from keras.layers import Dense, LSTM, Embedding, Dropout\n",
        "from keras.preprocessing.text import Tokenizer\n",
        "from keras.preprocessing.sequence import pad_sequences\n",
        "import numpy as np\n",
        "import pandas as pd\n",
        "from sklearn.model_selection import train_test_split\n",
        "import lxml\n",
        "import requests\n",
        "from bs4 import BeautifulSoup\n",
        "from textblob import TextBlob"
      ],
      "execution_count": 0,
      "outputs": []
    },
    {
      "cell_type": "code",
      "metadata": {
        "id": "ecbRN27TdTyQ",
        "colab_type": "code",
        "colab": {}
      },
      "source": [
        "class Scrape:\n",
        "    def __init__(self):\n",
        "        self.url=\"https://tiny.cc/sck34y\"\n",
        "        self.reviews=[]\n",
        "        self.labels=[]\n",
        "        self.positive=[]\n",
        "        self.negative=[]\n",
        "        self.neutral=[]\n",
        "    \n",
        "    def get_reviews(self,s,url):\n",
        "        s.headers = {'User-Agent': 'Mozilla/5.0 (Windows NT 6.1; Win64; x64) AppleWebKit/537.36 (KHTML, like Gecko) Chrome/73.0.3683.103 Safari/537.36'}\n",
        "        response = s.get(url,headers=s.headers)\n",
        "        soup = BeautifulSoup(response.text,\"lxml\")\n",
        "        return soup.find_all(\"span\",{\"data-hook\":\"review-body\"})\n",
        "\n",
        "    def get_tag(self,s,url):   #pagination to scrape 100 reviews\n",
        "        s.headers = {'User-Agent': 'Mozilla/5.0 (Windows NT 6.1; Win64; x64) AppleWebKit/537.36 (KHTML, like Gecko) Chrome/73.0.3683.103 Safari/537.36'}\n",
        "        response = s.get(url,headers=s.headers)\n",
        "        soup = BeautifulSoup(response.text,\"lxml\")\n",
        "      \n",
        "        try:\n",
        "            link=soup.find(\"li\",{\"class\":\"a-last\"})\n",
        "            a=link.find('a')\n",
        "            b=\"https://www.amazon.in\"+a['href']\n",
        "        \n",
        "            return b\n",
        "        except:\n",
        "            pass \n",
        "\n",
        "    def sentiment(self,text):    # sentiment analysis\n",
        "\n",
        "        score =TextBlob(text).sentiment.polarity\n",
        "        if(score==0):\n",
        "            self.neutral.append(text)\n",
        "            return \"neutral\"\n",
        "        elif(score>0):\n",
        "            self.positive.append(text)\n",
        "            return \"positive\"\n",
        "        else:\n",
        "            self.negative.append(text)\n",
        "            return \"negative\" \n",
        "\n",
        "    def review_(self):   #Fectchimg the reviews\n",
        "        link = 'https://www.amazon.in/OnePlus-Midnight-Black-128GB-Storage/product-reviews/B07DJHY82F/ref=cm_cr_dp_d_show_all_btm?ie=UTF8&reviewerType=all_reviews'\n",
        "        i=0\n",
        "        with requests.Session() as s:\n",
        "            while(i <=100):\n",
        "                if(i>=100):\n",
        "                    break\n",
        "                try:\n",
        "                    \n",
        "                    for review in self.get_reviews(s,link):\n",
        "                        \n",
        "                        #self.reviews.append(review)    \n",
        "#                         print(i,\")\",f'{review.text}\\n')\n",
        "                          text=str(review.text)\n",
        "#                         self.reviews[str(i)]=text\n",
        "                          t2=self.sentiment(text)\n",
        "#                         print(\"Analysis:\",t2,\"\\n\")\n",
        "                          self.reviews.append(text)\n",
        "                          self.labels.append(t2)\n",
        "                          \n",
        "                            \n",
        "                          i=i+1\n",
        "                except UnicodeEncodeError:\n",
        "                    pass     \n",
        "                    \n",
        "                link=self.get_tag(s,link)  \n"
      ],
      "execution_count": 0,
      "outputs": []
    },
    {
      "cell_type": "code",
      "metadata": {
        "id": "ZmdzkYDAdVrN",
        "colab_type": "code",
        "colab": {}
      },
      "source": [
        "s=Scrape()\n",
        "s.review_()"
      ],
      "execution_count": 0,
      "outputs": []
    },
    {
      "cell_type": "code",
      "metadata": {
        "id": "Tgw-2zTwdcIt",
        "colab_type": "code",
        "colab": {}
      },
      "source": [
        "tokenizer = Tokenizer(num_words=5000, split=\" \")\n",
        "tokenizer.fit_on_texts(s.reviews)\n",
        "\n",
        "X = tokenizer.texts_to_sequences(s.reviews)\n",
        "X = pad_sequences(X,maxlen=88)"
      ],
      "execution_count": 0,
      "outputs": []
    },
    {
      "cell_type": "code",
      "metadata": {
        "id": "D5sPskZedhxN",
        "colab_type": "code",
        "colab": {}
      },
      "source": [
        "model = Sequential()\n",
        "model.add(Embedding(5000, 128))\n",
        "#model.add(Dropout(0.3))\n",
        "model.add(LSTM(128, return_sequences=True, dropout=0.2, recurrent_dropout=0.2))\n",
        "model.add(LSTM(50, dropout=0.3, recurrent_dropout=0.2))\n",
        "model.add(Dense(3, activation='softmax'))\n",
        "model.compile(loss='categorical_crossentropy', optimizer='adam', metrics=['accuracy'])\n",
        "\n",
        "y = pd.get_dummies(s.labels).values\n",
        "\n",
        "X_train, X_test, y_train, y_test = train_test_split(X, y, test_size=0.2, random_state=0)\n",
        "\n",
        "# meaning [ 0,0,1]= positive\n",
        "# [0,1,0]= neutral\n",
        "# [1,0,0]=  negative"
      ],
      "execution_count": 0,
      "outputs": []
    },
    {
      "cell_type": "code",
      "metadata": {
        "id": "9tupjLpjdkI1",
        "colab_type": "code",
        "outputId": "7cf491a7-9f4d-4493-a19c-c6a5d62d98bb",
        "colab": {
          "base_uri": "https://localhost:8080/",
          "height": 357
        }
      },
      "source": [
        "\n",
        "batch_size = int(len(X_train)/10)\n",
        "epochs = 10\n",
        "\n",
        "model.fit(X_train, y_train, epochs=epochs, batch_size=batch_size, verbose=2)\n",
        "\n",
        "predictions = model.predict(X_test)"
      ],
      "execution_count": 39,
      "outputs": [
        {
          "output_type": "stream",
          "text": [
            "Epoch 1/10\n",
            " - 6s - loss: 1.0768 - acc: 0.6000\n",
            "Epoch 2/10\n",
            " - 2s - loss: 0.9544 - acc: 0.6250\n",
            "Epoch 3/10\n",
            " - 2s - loss: 0.7853 - acc: 0.6250\n",
            "Epoch 4/10\n",
            " - 2s - loss: 0.6195 - acc: 0.6875\n",
            "Epoch 5/10\n",
            " - 2s - loss: 0.5111 - acc: 0.7625\n",
            "Epoch 6/10\n",
            " - 2s - loss: 0.2790 - acc: 0.9250\n",
            "Epoch 7/10\n",
            " - 2s - loss: 0.5929 - acc: 0.8625\n",
            "Epoch 8/10\n",
            " - 2s - loss: 0.4098 - acc: 0.8750\n",
            "Epoch 9/10\n",
            " - 2s - loss: 0.2682 - acc: 0.8875\n",
            "Epoch 10/10\n",
            " - 2s - loss: 0.2086 - acc: 0.9500\n"
          ],
          "name": "stdout"
        }
      ]
    },
    {
      "cell_type": "code",
      "metadata": {
        "id": "Xn-V6rFadvym",
        "colab_type": "code",
        "outputId": "4686f97c-d23c-4df1-c5a8-33992384822e",
        "colab": {
          "base_uri": "https://localhost:8080/",
          "height": 51
        }
      },
      "source": [
        "score,acc= model.evaluate(X_test,y_test,batch_size=batch_size, verbose=2)\n",
        "print(score)\n",
        "print(\"Accuracy :\",acc)"
      ],
      "execution_count": 41,
      "outputs": [
        {
          "output_type": "stream",
          "text": [
            "0.529214608669281\n",
            "Accuracy : 0.7\n"
          ],
          "name": "stdout"
        }
      ]
    },
    {
      "cell_type": "code",
      "metadata": {
        "id": "l5g72eBMd3vu",
        "colab_type": "code",
        "colab": {}
      },
      "source": [
        ""
      ],
      "execution_count": 0,
      "outputs": []
    }
  ]
}